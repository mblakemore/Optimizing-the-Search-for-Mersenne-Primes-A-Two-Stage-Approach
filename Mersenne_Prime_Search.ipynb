{
  "nbformat": 4,
  "nbformat_minor": 0,
  "metadata": {
    "colab": {
      "provenance": [],
      "machine_shape": "hm",
      "gpuType": "V100"
    },
    "kernelspec": {
      "name": "python3",
      "display_name": "Python 3"
    },
    "language_info": {
      "name": "python"
    },
    "accelerator": "GPU"
  },
  "cells": [
    {
      "cell_type": "code",
      "source": [
        "!sudo apt update\n",
        "!sudo apt install libgmp-dev"
      ],
      "metadata": {
        "colab": {
          "base_uri": "https://localhost:8080/"
        },
        "id": "XHvQvuSwmaSo",
        "outputId": "c0d0116e-aebd-4a86-acdc-f55d5f41b597",
        "collapsed": true
      },
      "execution_count": 1,
      "outputs": [
        {
          "output_type": "stream",
          "name": "stdout",
          "text": [
            "\u001b[33m\r0% [Working]\u001b[0m\r            \rGet:1 http://security.ubuntu.com/ubuntu jammy-security InRelease [110 kB]\n",
            "\u001b[33m\r0% [Connecting to archive.ubuntu.com (91.189.91.82)] [1 InRelease 5,481 B/110 k\u001b[0m\r                                                                               \rGet:2 https://cloud.r-project.org/bin/linux/ubuntu jammy-cran40/ InRelease [3,626 B]\n",
            "\u001b[33m\r0% [Connecting to archive.ubuntu.com (91.189.91.82)] [1 InRelease 93.8 kB/110 k\u001b[0m\u001b[33m\r0% [Connecting to archive.ubuntu.com (91.189.91.82)] [1 InRelease 110 kB/110 kB\u001b[0m\u001b[33m\r0% [Connecting to archive.ubuntu.com (91.189.91.82)] [Waiting for headers] [Wai\u001b[0m\r                                                                               \rHit:3 https://developer.download.nvidia.com/compute/cuda/repos/ubuntu2204/x86_64  InRelease\n",
            "\u001b[33m\r                                                                               \r0% [Waiting for headers] [Waiting for headers]\u001b[0m\r                                              \rHit:4 https://ppa.launchpadcontent.net/c2d4u.team/c2d4u4.0+/ubuntu jammy InRelease\n",
            "\u001b[33m\r                                              \r0% [Waiting for headers]\u001b[0m\r                        \rHit:5 https://ppa.launchpadcontent.net/deadsnakes/ppa/ubuntu jammy InRelease\n",
            "\u001b[33m\r0% [Waiting for headers]\u001b[0m\r                        \rHit:6 https://ppa.launchpadcontent.net/graphics-drivers/ppa/ubuntu jammy InRelease\n",
            "\u001b[33m\r0% [Waiting for headers]\u001b[0m\r                        \rHit:7 https://ppa.launchpadcontent.net/ubuntugis/ppa/ubuntu jammy InRelease\n",
            "Hit:8 http://archive.ubuntu.com/ubuntu jammy InRelease\n",
            "Get:9 http://archive.ubuntu.com/ubuntu jammy-updates InRelease [119 kB]\n",
            "Hit:10 http://archive.ubuntu.com/ubuntu jammy-backports InRelease\n",
            "Get:11 http://archive.ubuntu.com/ubuntu jammy-updates/main amd64 Packages [2,118 kB]\n",
            "Fetched 2,351 kB in 2s (1,477 kB/s)\n",
            "Reading package lists... Done\n",
            "Building dependency tree... Done\n",
            "Reading state information... Done\n",
            "45 packages can be upgraded. Run 'apt list --upgradable' to see them.\n",
            "Reading package lists... Done\n",
            "Building dependency tree... Done\n",
            "Reading state information... Done\n",
            "The following additional packages will be installed:\n",
            "  libgmpxx4ldbl\n",
            "Suggested packages:\n",
            "  gmp-doc libgmp10-doc libmpfr-dev\n",
            "The following NEW packages will be installed:\n",
            "  libgmp-dev libgmpxx4ldbl\n",
            "0 upgraded, 2 newly installed, 0 to remove and 45 not upgraded.\n",
            "Need to get 346 kB of archives.\n",
            "After this operation, 1,702 kB of additional disk space will be used.\n",
            "Get:1 http://archive.ubuntu.com/ubuntu jammy/main amd64 libgmpxx4ldbl amd64 2:6.2.1+dfsg-3ubuntu1 [9,580 B]\n",
            "Get:2 http://archive.ubuntu.com/ubuntu jammy/main amd64 libgmp-dev amd64 2:6.2.1+dfsg-3ubuntu1 [337 kB]\n",
            "Fetched 346 kB in 0s (3,493 kB/s)\n",
            "debconf: unable to initialize frontend: Dialog\n",
            "debconf: (No usable dialog-like program is installed, so the dialog based frontend cannot be used. at /usr/share/perl5/Debconf/FrontEnd/Dialog.pm line 78, <> line 2.)\n",
            "debconf: falling back to frontend: Readline\n",
            "debconf: unable to initialize frontend: Readline\n",
            "debconf: (This frontend requires a controlling tty.)\n",
            "debconf: falling back to frontend: Teletype\n",
            "dpkg-preconfigure: unable to re-open stdin: \n",
            "Selecting previously unselected package libgmpxx4ldbl:amd64.\n",
            "(Reading database ... 121918 files and directories currently installed.)\n",
            "Preparing to unpack .../libgmpxx4ldbl_2%3a6.2.1+dfsg-3ubuntu1_amd64.deb ...\n",
            "Unpacking libgmpxx4ldbl:amd64 (2:6.2.1+dfsg-3ubuntu1) ...\n",
            "Selecting previously unselected package libgmp-dev:amd64.\n",
            "Preparing to unpack .../libgmp-dev_2%3a6.2.1+dfsg-3ubuntu1_amd64.deb ...\n",
            "Unpacking libgmp-dev:amd64 (2:6.2.1+dfsg-3ubuntu1) ...\n",
            "Setting up libgmpxx4ldbl:amd64 (2:6.2.1+dfsg-3ubuntu1) ...\n",
            "Setting up libgmp-dev:amd64 (2:6.2.1+dfsg-3ubuntu1) ...\n",
            "Processing triggers for libc-bin (2.35-0ubuntu3.4) ...\n",
            "/sbin/ldconfig.real: /usr/local/lib/libtbbbind_2_5.so.3 is not a symbolic link\n",
            "\n",
            "/sbin/ldconfig.real: /usr/local/lib/libtbbbind_2_0.so.3 is not a symbolic link\n",
            "\n",
            "/sbin/ldconfig.real: /usr/local/lib/libtbb.so.12 is not a symbolic link\n",
            "\n",
            "/sbin/ldconfig.real: /usr/local/lib/libtbbbind.so.3 is not a symbolic link\n",
            "\n",
            "/sbin/ldconfig.real: /usr/local/lib/libtbbmalloc.so.2 is not a symbolic link\n",
            "\n",
            "/sbin/ldconfig.real: /usr/local/lib/libtbbmalloc_proxy.so.2 is not a symbolic link\n",
            "\n"
          ]
        }
      ]
    },
    {
      "cell_type": "markdown",
      "source": [
        "CPU:"
      ],
      "metadata": {
        "id": "nB_NSlpx-mnT"
      }
    },
    {
      "cell_type": "code",
      "source": [
        "import numpy as np\n",
        "from numba import cuda\n",
        "from concurrent.futures import ThreadPoolExecutor\n",
        "\n",
        "def is_prime(n):\n",
        "    if n < 2:\n",
        "        return False\n",
        "    for i in range(2, int(n ** 0.5) + 1):\n",
        "        if n % i == 0:\n",
        "            return False\n",
        "    return True\n",
        "\n",
        "def modular_arithmetic_sieve(start, end, threshold):\n",
        "    small_primes = [p for p in range(2, threshold) if is_prime(p)]\n",
        "    candidates = []\n",
        "\n",
        "    for p in range(start, end + 1):\n",
        "        if not is_prime(p):\n",
        "            continue\n",
        "\n",
        "        mersenne_num = 2 ** p - 1\n",
        "        is_candidate = True\n",
        "\n",
        "        for prime in small_primes:\n",
        "            if mersenne_num % prime == 0:\n",
        "                is_candidate = False\n",
        "                break\n",
        "\n",
        "        if is_candidate:\n",
        "            candidates.append(p)\n",
        "\n",
        "    return candidates\n",
        "\n",
        "def lucas_lehmer_test(p):\n",
        "    s = 4\n",
        "    m = 2 ** p - 1\n",
        "\n",
        "    for _ in range(p - 2):\n",
        "        s = pow(s, 2, m) - 2\n",
        "\n",
        "    return s == 0\n",
        "\n",
        "def test_mersenne_prime(exp):\n",
        "    if lucas_lehmer_test(exp):\n",
        "        return exp\n",
        "    return None\n",
        "\n",
        "# Example usage\n",
        "start_exponent = 2\n",
        "end_exponent = 1000\n",
        "threshold = 100\n",
        "\n",
        "candidate_exponents = modular_arithmetic_sieve(start_exponent, end_exponent, threshold)\n",
        "print(\"Candidate Mersenne prime exponents after modular arithmetic sieve:\", candidate_exponents)\n",
        "\n",
        "with ThreadPoolExecutor() as executor:\n",
        "    mersenne_primes = list(executor.map(test_mersenne_prime, candidate_exponents))\n",
        "    mersenne_primes = [p for p in mersenne_primes if p is not None]\n",
        "\n",
        "print(\"Mersenne prime exponents after Lucas-Lehmer test:\", mersenne_primes)"
      ],
      "metadata": {
        "colab": {
          "base_uri": "https://localhost:8080/"
        },
        "id": "7fp5sqt46WZj",
        "outputId": "aafb33ec-610a-46cd-8c27-35b40cd0b544"
      },
      "execution_count": 2,
      "outputs": [
        {
          "output_type": "stream",
          "name": "stdout",
          "text": [
            "Candidate Mersenne prime exponents after modular arithmetic sieve: [7, 13, 17, 19, 29, 31, 37, 41, 43, 47, 53, 59, 61, 67, 71, 73, 79, 83, 89, 97, 101, 103, 107, 109, 113, 127, 131, 137, 139, 149, 151, 157, 163, 167, 173, 179, 181, 191, 193, 197, 199, 211, 223, 227, 229, 233, 239, 241, 251, 257, 263, 269, 271, 277, 281, 283, 293, 307, 311, 313, 317, 331, 337, 347, 349, 353, 359, 367, 373, 379, 383, 389, 397, 401, 409, 419, 421, 431, 433, 439, 443, 449, 457, 461, 463, 467, 479, 487, 491, 499, 503, 509, 521, 523, 541, 547, 557, 563, 569, 571, 577, 587, 593, 599, 601, 607, 613, 617, 619, 631, 641, 643, 647, 653, 659, 661, 673, 677, 683, 691, 701, 709, 719, 727, 733, 739, 743, 751, 757, 761, 769, 773, 787, 797, 809, 811, 821, 823, 827, 829, 839, 853, 857, 859, 863, 877, 881, 883, 887, 907, 911, 919, 929, 937, 941, 947, 953, 967, 971, 977, 983, 991, 997]\n",
            "Mersenne prime exponents after Lucas-Lehmer test: [7, 13, 17, 19, 31, 61, 89, 107, 127, 521, 607]\n"
          ]
        }
      ]
    },
    {
      "cell_type": "markdown",
      "source": [
        "CPU Multithreaded:"
      ],
      "metadata": {
        "id": "DOtvzTKjDWwH"
      }
    },
    {
      "cell_type": "code",
      "source": [
        "import math\n",
        "import multiprocessing\n",
        "\n",
        "def is_prime(n):\n",
        "    if n < 2:\n",
        "        return False\n",
        "    for i in range(2, int(n ** 0.5) + 1):\n",
        "        if n % i == 0:\n",
        "            return False\n",
        "    return True\n",
        "\n",
        "def modular_arithmetic_sieve(start, end, threshold):\n",
        "    small_primes = [p for p in range(2, threshold) if is_prime(p)]\n",
        "    candidates = []\n",
        "\n",
        "    for p in range(start, end + 1):\n",
        "        if not is_prime(p):\n",
        "            continue\n",
        "\n",
        "        mersenne_num = 2 ** p - 1\n",
        "        is_candidate = True\n",
        "\n",
        "        for prime in small_primes:\n",
        "            if mersenne_num % prime == 0:\n",
        "                is_candidate = False\n",
        "                break\n",
        "\n",
        "        if is_candidate:\n",
        "            candidates.append(p)\n",
        "\n",
        "    return candidates\n",
        "\n",
        "def modular_pow(base, exponent, modulus):\n",
        "    result = 1\n",
        "    base = base % modulus\n",
        "    while exponent > 0:\n",
        "        if exponent % 2 == 1:\n",
        "            result = (result * base) % modulus\n",
        "        base = (base * base) % modulus\n",
        "        exponent //= 2\n",
        "    return result\n",
        "\n",
        "def lucas_lehmer_test(p):\n",
        "    m = 2 ** p - 1\n",
        "    s = 4\n",
        "\n",
        "    for _ in range(p - 2):\n",
        "        s = modular_pow(s, 2, m) - 2\n",
        "        if s < 0:\n",
        "            s += m\n",
        "\n",
        "    return s == 0\n",
        "\n",
        "def test_mersenne_prime(exp):\n",
        "    if lucas_lehmer_test(exp):\n",
        "        return exp\n",
        "    return None\n",
        "\n",
        "def find_mersenne_primes(start_exponent, end_exponent, threshold):\n",
        "    candidate_exponents = modular_arithmetic_sieve(start_exponent, end_exponent, threshold)\n",
        "    print(\"Candidate Mersenne prime exponents after modular arithmetic sieve:\", candidate_exponents)\n",
        "\n",
        "    with multiprocessing.Pool() as pool:\n",
        "        mersenne_primes = pool.map(test_mersenne_prime, candidate_exponents)\n",
        "        mersenne_primes = [p for p in mersenne_primes if p is not None]\n",
        "\n",
        "    print(\"Mersenne prime exponents after Lucas-Lehmer test:\", mersenne_primes)\n",
        "\n",
        "# Example usage\n",
        "start_exponent = 2\n",
        "end_exponent = 1000\n",
        "threshold = 100\n",
        "\n",
        "find_mersenne_primes(start_exponent, end_exponent, threshold)"
      ],
      "metadata": {
        "colab": {
          "base_uri": "https://localhost:8080/"
        },
        "id": "pwplDELQDToe",
        "outputId": "5fe1edac-c7da-4bae-a20a-752808c7f77b"
      },
      "execution_count": 3,
      "outputs": [
        {
          "output_type": "stream",
          "name": "stdout",
          "text": [
            "Candidate Mersenne prime exponents after modular arithmetic sieve: [7, 13, 17, 19, 29, 31, 37, 41, 43, 47, 53, 59, 61, 67, 71, 73, 79, 83, 89, 97, 101, 103, 107, 109, 113, 127, 131, 137, 139, 149, 151, 157, 163, 167, 173, 179, 181, 191, 193, 197, 199, 211, 223, 227, 229, 233, 239, 241, 251, 257, 263, 269, 271, 277, 281, 283, 293, 307, 311, 313, 317, 331, 337, 347, 349, 353, 359, 367, 373, 379, 383, 389, 397, 401, 409, 419, 421, 431, 433, 439, 443, 449, 457, 461, 463, 467, 479, 487, 491, 499, 503, 509, 521, 523, 541, 547, 557, 563, 569, 571, 577, 587, 593, 599, 601, 607, 613, 617, 619, 631, 641, 643, 647, 653, 659, 661, 673, 677, 683, 691, 701, 709, 719, 727, 733, 739, 743, 751, 757, 761, 769, 773, 787, 797, 809, 811, 821, 823, 827, 829, 839, 853, 857, 859, 863, 877, 881, 883, 887, 907, 911, 919, 929, 937, 941, 947, 953, 967, 971, 977, 983, 991, 997]\n",
            "Mersenne prime exponents after Lucas-Lehmer test: [7, 13, 17, 19, 31, 61, 89, 107, 127, 521, 607]\n"
          ]
        }
      ]
    }
  ]
}